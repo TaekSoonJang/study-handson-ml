{
 "cells": [
  {
   "cell_type": "code",
   "execution_count": 1,
   "metadata": {},
   "outputs": [
    {
     "name": "stderr",
     "output_type": "stream",
     "text": [
      "//anaconda/envs/rl/lib/python3.5/importlib/_bootstrap.py:222: RuntimeWarning: compiletime version 3.6 of module 'tensorflow.python.framework.fast_tensor_util' does not match runtime version 3.5\n",
      "  return f(*args, **kwds)\n",
      "//anaconda/envs/rl/lib/python3.5/site-packages/h5py/__init__.py:36: FutureWarning: Conversion of the second argument of issubdtype from `float` to `np.floating` is deprecated. In future, it will be treated as `np.float64 == np.dtype(float).type`.\n",
      "  from ._conv import register_converters as _register_converters\n"
     ]
    }
   ],
   "source": [
    "from functools import partial\n",
    "\n",
    "import tensorflow as tf\n",
    "import numpy as np"
   ]
  },
  {
   "cell_type": "markdown",
   "metadata": {},
   "source": [
    "### Hyperparameters"
   ]
  },
  {
   "cell_type": "code",
   "execution_count": 7,
   "metadata": {},
   "outputs": [],
   "source": [
    "n_inputs = 28*28\n",
    "n_hidden1 = 300\n",
    "n_hidden2 = 100\n",
    "n_outputs = 10\n",
    "\n",
    "n_epochs = 40\n",
    "batch_size = 50\n",
    "\n",
    "learning_rate = 0.01\n",
    "momentum = 0.9\n",
    "threshold = 1.0 # For gradient clipping\n",
    "\n",
    "scale = 0.001 # L1 regularization hyperparameter\n",
    "\n",
    "dropout_rate = 0.5\n",
    "\n",
    "logdir = \"./tb-log\""
   ]
  },
  {
   "cell_type": "markdown",
   "metadata": {},
   "source": [
    "### Load MNIST Data"
   ]
  },
  {
   "cell_type": "code",
   "execution_count": 3,
   "metadata": {},
   "outputs": [
    {
     "name": "stdout",
     "output_type": "stream",
     "text": [
      "WARNING:tensorflow:From <ipython-input-3-c50d5bb4a85c>:2: read_data_sets (from tensorflow.contrib.learn.python.learn.datasets.mnist) is deprecated and will be removed in a future version.\n",
      "Instructions for updating:\n",
      "Please use alternatives such as official/mnist/dataset.py from tensorflow/models.\n",
      "WARNING:tensorflow:From //anaconda/envs/rl/lib/python3.5/site-packages/tensorflow/contrib/learn/python/learn/datasets/mnist.py:260: maybe_download (from tensorflow.contrib.learn.python.learn.datasets.base) is deprecated and will be removed in a future version.\n",
      "Instructions for updating:\n",
      "Please write your own downloading logic.\n",
      "WARNING:tensorflow:From //anaconda/envs/rl/lib/python3.5/site-packages/tensorflow/contrib/learn/python/learn/datasets/base.py:252: _internal_retry.<locals>.wrap.<locals>.wrapped_fn (from tensorflow.contrib.learn.python.learn.datasets.base) is deprecated and will be removed in a future version.\n",
      "Instructions for updating:\n",
      "Please use urllib or similar directly.\n",
      "Successfully downloaded train-images-idx3-ubyte.gz 9912422 bytes.\n",
      "WARNING:tensorflow:From //anaconda/envs/rl/lib/python3.5/site-packages/tensorflow/contrib/learn/python/learn/datasets/mnist.py:262: extract_images (from tensorflow.contrib.learn.python.learn.datasets.mnist) is deprecated and will be removed in a future version.\n",
      "Instructions for updating:\n",
      "Please use tf.data to implement this functionality.\n",
      "Extracting /tmp/data/train-images-idx3-ubyte.gz\n",
      "Successfully downloaded train-labels-idx1-ubyte.gz 28881 bytes.\n",
      "WARNING:tensorflow:From //anaconda/envs/rl/lib/python3.5/site-packages/tensorflow/contrib/learn/python/learn/datasets/mnist.py:267: extract_labels (from tensorflow.contrib.learn.python.learn.datasets.mnist) is deprecated and will be removed in a future version.\n",
      "Instructions for updating:\n",
      "Please use tf.data to implement this functionality.\n",
      "Extracting /tmp/data/train-labels-idx1-ubyte.gz\n",
      "Successfully downloaded t10k-images-idx3-ubyte.gz 1648877 bytes.\n",
      "Extracting /tmp/data/t10k-images-idx3-ubyte.gz\n",
      "Successfully downloaded t10k-labels-idx1-ubyte.gz 4542 bytes.\n",
      "Extracting /tmp/data/t10k-labels-idx1-ubyte.gz\n",
      "WARNING:tensorflow:From //anaconda/envs/rl/lib/python3.5/site-packages/tensorflow/contrib/learn/python/learn/datasets/mnist.py:290: DataSet.__init__ (from tensorflow.contrib.learn.python.learn.datasets.mnist) is deprecated and will be removed in a future version.\n",
      "Instructions for updating:\n",
      "Please use alternatives such as official/mnist/dataset.py from tensorflow/models.\n"
     ]
    }
   ],
   "source": [
    "from tensorflow.examples.tutorials.mnist import input_data\n",
    "mnist = input_data.read_data_sets(\"/tmp/data/\")"
   ]
  },
  {
   "cell_type": "markdown",
   "metadata": {},
   "source": [
    "### Construction Phase\n",
    "\n",
    "* He initialization(by tf.layers.dense)\n",
    "* ELU\n",
    "* Batch Normalization\n",
    "* Gradient Clipping (if you need)\n",
    "* Frozen layers (if you need)\n",
    "* Optimizers\n",
    " * Momentum (with Nesterov accelerated gradient)\n",
    " * RMSProp\n",
    " * Adam\n",
    "* Regularization\n",
    " * L1 regularization\n",
    " * Dropout"
   ]
  },
  {
   "cell_type": "code",
   "execution_count": 10,
   "metadata": {},
   "outputs": [],
   "source": [
    "tf.reset_default_graph()\n",
    "\n",
    "# Training flag\n",
    "training = tf.placeholder_with_default(False, shape=(), name='training')\n",
    "\n",
    "# Convinent partial functions\n",
    "my_dense_layer = partial(tf.layers.dense,\n",
    "                         kernel_regularizer=tf.contrib.layers.l1_regularizer(scale))\n",
    "my_batch_norm_layer = partial(tf.layers.batch_normalization,\n",
    "                              training=training, momentum=momentum)\n",
    "my_dropout = partial(tf.layers.dropout,\n",
    "                     rate=dropout_rate,\n",
    "                     training=training)\n",
    "\n",
    "X = tf.placeholder(tf.float32, shape=(None, n_inputs), name=\"X\")\n",
    "X_drop = my_dropout(X)\n",
    "y = tf.placeholder(tf.int64, shape=(None), name=\"y\")\n",
    "\n",
    "with tf.name_scope(\"dnn\"):\n",
    "    hidden1 = my_dense_layer(X_drop, n_hidden1, name=\"hidden1\")\n",
    "    bn1 = my_batch_norm_layer(hidden1)\n",
    "    bn1_act = tf.nn.elu(bn1, name=\"hidden1_bn\")\n",
    "    bn1_drop = my_dropout(bn1_act)\n",
    "    \n",
    "    hidden2 = my_dense_layer(bn1_drop, n_hidden2, name=\"hidden2\")\n",
    "    bn2 = my_batch_norm_layer(hidden2)\n",
    "    bn2_act = tf.nn.elu(bn2, name=\"hidden2_bn\")\n",
    "    bn2_drop = my_dropout(bn2_act)\n",
    "    \n",
    "    logits_before_bn = my_dense_layer(bn2_drop, n_outputs, name=\"outputs\")\n",
    "    logits = my_batch_norm_layer(logits_before_bn)\n",
    "\n",
    "with tf.name_scope(\"loss\"):\n",
    "    xentropy = tf.nn.sparse_softmax_cross_entropy_with_logits(labels=y, logits=logits)\n",
    "    base_loss = tf.reduce_mean(xentropy)\n",
    "    \n",
    "    reg_losses = tf.get_collection(tf.GraphKeys.REGULARIZATION_LOSSES)\n",
    "\n",
    "    loss = tf.add_n([base_loss] + reg_losses, name=\"loss\")\n",
    "\n",
    "with tf.name_scope(\"train\"):\n",
    "    '''\n",
    "    optimizer = tf.train.GradientDescentOptimizer(learning_rate=learning_rate)\n",
    "    \n",
    "    # decay=0.9 usually works well\n",
    "    optimizer = tf.train.RMSPropOptimizer(learning_rate=learning_rate,\n",
    "                                          momentum=momentum,\n",
    "                                          decay=0.9,\n",
    "                                          epsilon=1e-10)\n",
    "    \n",
    "    optimizer = tf.train.AdamOptimizer(learning_rate=learning_rate)\n",
    "    '''\n",
    "    # momentum=0.9 usually works well\n",
    "    optimizer = tf.train.MomentumOptimizer(learning_rate=learning_rate,\n",
    "                                           momentum=momentum,\n",
    "                                           use_nesterov=True)\n",
    "    \n",
    "    ### Gradient clipping (not necessary when you use batch normalization)\n",
    "    '''\n",
    "    grads_and_vars = optimizer.compute_gradients(loss)\n",
    "    capped_gvs = [(tf.clip_by_value(grad, -threshold, threshold), var)\n",
    "                  for grad, var in grad_and_vars]\n",
    "    training_op = optimizer.apply_gradients(capped_gvs)\n",
    "    '''\n",
    "    \n",
    "    ### Freezing layers\n",
    "    '''\n",
    "    train_vars = tf.get_collection(tf.GraphKeys.TRAINABLE_VARIABLES,\n",
    "                                   scope=\"hidden[34]|outputs\")\n",
    "    # By specifying var_list, you freeze layers other than variables you provide.\n",
    "    training_op = optimizer.minimize(loss, var_list=train_vars)\n",
    "    '''\n",
    "    \n",
    "    training_op = optimizer.minimize(loss)\n",
    "\n",
    "with tf.name_scope(\"eval\"):\n",
    "    correct = tf.nn.in_top_k(logits, y, 1)\n",
    "    accuracy = tf.reduce_mean(tf.cast(correct, tf.float32), name=\"accuracy\")\n",
    "\n",
    "file_writer = tf.summary.FileWriter(logdir, tf.get_default_graph())\n",
    "    \n",
    "init = tf.global_variables_initializer()\n",
    "\n",
    "# To save batch normalization variables, you should specify tf.global_variables()\n",
    "saver = tf.train.Saver(tf.global_variables())"
   ]
  },
  {
   "cell_type": "markdown",
   "metadata": {},
   "source": [
    "### Execution Phase"
   ]
  },
  {
   "cell_type": "code",
   "execution_count": 11,
   "metadata": {},
   "outputs": [
    {
     "name": "stdout",
     "output_type": "stream",
     "text": [
      "0 Train Accuracy:  0.82 Test Accuracy:  0.8801\n",
      "1 Train Accuracy:  0.92 Test Accuracy:  0.8939\n",
      "2 Train Accuracy:  0.94 Test Accuracy:  0.8831\n",
      "3 Train Accuracy:  0.86 Test Accuracy:  0.8948\n",
      "4 Train Accuracy:  0.88 Test Accuracy:  0.8941\n",
      "5 Train Accuracy:  0.92 Test Accuracy:  0.8952\n",
      "6 Train Accuracy:  0.96 Test Accuracy:  0.8939\n",
      "7 Train Accuracy:  0.94 Test Accuracy:  0.9028\n",
      "8 Train Accuracy:  0.92 Test Accuracy:  0.8811\n",
      "9 Train Accuracy:  0.92 Test Accuracy:  0.8917\n",
      "10 Train Accuracy:  0.88 Test Accuracy:  0.9004\n",
      "11 Train Accuracy:  0.98 Test Accuracy:  0.9032\n",
      "12 Train Accuracy:  0.94 Test Accuracy:  0.8943\n",
      "13 Train Accuracy:  0.9 Test Accuracy:  0.8992\n",
      "14 Train Accuracy:  0.92 Test Accuracy:  0.8923\n",
      "15 Train Accuracy:  0.98 Test Accuracy:  0.9001\n",
      "16 Train Accuracy:  0.9 Test Accuracy:  0.9058\n",
      "17 Train Accuracy:  0.88 Test Accuracy:  0.8897\n",
      "18 Train Accuracy:  0.92 Test Accuracy:  0.9093\n",
      "19 Train Accuracy:  0.96 Test Accuracy:  0.9045\n",
      "20 Train Accuracy:  0.92 Test Accuracy:  0.8974\n",
      "21 Train Accuracy:  0.92 Test Accuracy:  0.9075\n",
      "22 Train Accuracy:  0.94 Test Accuracy:  0.9042\n",
      "23 Train Accuracy:  0.92 Test Accuracy:  0.9054\n",
      "24 Train Accuracy:  0.86 Test Accuracy:  0.9056\n",
      "25 Train Accuracy:  0.88 Test Accuracy:  0.9099\n",
      "26 Train Accuracy:  0.86 Test Accuracy:  0.8952\n",
      "27 Train Accuracy:  0.88 Test Accuracy:  0.9085\n",
      "28 Train Accuracy:  0.94 Test Accuracy:  0.9114\n",
      "29 Train Accuracy:  0.94 Test Accuracy:  0.9082\n",
      "30 Train Accuracy:  0.86 Test Accuracy:  0.9124\n",
      "31 Train Accuracy:  0.94 Test Accuracy:  0.9067\n",
      "32 Train Accuracy:  0.86 Test Accuracy:  0.9148\n",
      "33 Train Accuracy:  0.9 Test Accuracy:  0.9144\n",
      "34 Train Accuracy:  0.9 Test Accuracy:  0.9156\n",
      "35 Train Accuracy:  0.82 Test Accuracy:  0.9148\n",
      "36 Train Accuracy:  0.92 Test Accuracy:  0.9012\n",
      "37 Train Accuracy:  0.96 Test Accuracy:  0.9156\n",
      "38 Train Accuracy:  0.92 Test Accuracy:  0.9062\n",
      "39 Train Accuracy:  0.92 Test Accuracy:  0.9201\n"
     ]
    }
   ],
   "source": [
    "# To calculate moving averages for batch normalization layers\n",
    "extra_update_ops = tf.get_collection(tf.GraphKeys.UPDATE_OPS)\n",
    "\n",
    "with tf.Session() as sess:\n",
    "    init.run()\n",
    "    \n",
    "    for epoch in range(n_epochs):\n",
    "        for iteration in range(mnist.train.num_examples // batch_size):\n",
    "            X_batch, y_batch = mnist.train.next_batch(batch_size)\n",
    "            sess.run([training_op, extra_update_ops], feed_dict={training: True, X: X_batch, y: y_batch})\n",
    "        acc_train = accuracy.eval(feed_dict={X: X_batch, y: y_batch})\n",
    "        acc_test = accuracy.eval(feed_dict={X: mnist.test.images,\n",
    "                                            y: mnist.test.labels})\n",
    "        \n",
    "        print(epoch, \"Train Accuracy: \", acc_train, \"Test Accuracy: \", acc_test)\n",
    "    \n",
    "    save_path = saver.save(sess, \"./ch10_model_final.ckpt\")"
   ]
  },
  {
   "cell_type": "code",
   "execution_count": 10,
   "metadata": {},
   "outputs": [
    {
     "name": "stdout",
     "output_type": "stream",
     "text": [
      "INFO:tensorflow:Restoring parameters from ./ch10_model_final.ckpt\n",
      "[1]\n"
     ]
    }
   ],
   "source": [
    "with tf.Session() as sess:\n",
    "    saver.restore(sess, \"./ch10_model_final.ckpt\")\n",
    "    X_new_scaled = [mnist.test.images[5]]\n",
    "    Z = logits.eval(feed_dict={X: X_new_scaled})\n",
    "    y_pred = np.argmax(Z, axis=1)\n",
    "    \n",
    "    print(y_pred)"
   ]
  },
  {
   "cell_type": "markdown",
   "metadata": {},
   "source": [
    "### Reusing a Tensorflow Model"
   ]
  },
  {
   "cell_type": "code",
   "execution_count": 27,
   "metadata": {},
   "outputs": [
    {
     "name": "stdout",
     "output_type": "stream",
     "text": [
      "INFO:tensorflow:Restoring parameters from ./ch10_model_final.ckpt\n"
     ]
    }
   ],
   "source": [
    "tf.reset_default_graph()\n",
    "\n",
    "model_path = \"./ch10_model_final.ckpt\"\n",
    "saver = tf.train.import_meta_graph(model_path + \".meta\")\n",
    "\n",
    "# If you need to know the names\n",
    "'''\n",
    "for op in tf.get_default_graph().get_operations():\n",
    "    print(op.name)\n",
    "'''\n",
    "\n",
    "X = tf.get_default_graph().get_tensor_by_name(\"X:0\")\n",
    "y = tf.get_default_graph().get_tensor_by_name(\"y:0\")\n",
    "accuracy = tf.get_default_graph().get_tensor_by_name(\"eval/accuracy:0\")\n",
    "training_op = tf.get_default_graph().get_operation_by_name(\"train/GradientDescent\")\n",
    "\n",
    "with tf.Session() as sess:\n",
    "    saver.restore(sess, model_path)\n",
    "    # Train on your own"
   ]
  },
  {
   "cell_type": "markdown",
   "metadata": {},
   "source": [
    "### Caching frozen layers"
   ]
  },
  {
   "cell_type": "code",
   "execution_count": 28,
   "metadata": {},
   "outputs": [],
   "source": [
    "tf.reset_default_graph()\n",
    "\n",
    "X = tf.placeholder(tf.float32, shape=(None, n_inputs), name=\"X\")\n",
    "training = tf.placeholder_with_default(False, shape=(), name='training')\n",
    "\n",
    "y = tf.placeholder(tf.int64, shape=(None), name=\"y\")\n",
    "\n",
    "my_batch_norm_layer = partial(tf.layers.batch_normalization,\n",
    "                              training=training, momentum=momentum)\n",
    "\n",
    "with tf.name_scope(\"dnn\"):\n",
    "    hidden1 = tf.layers.dense(X, n_hidden1, name=\"hidden1\")\n",
    "    bn1 = my_batch_norm_layer(hidden1)\n",
    "    bn1_act = tf.nn.elu(bn1, name=\"hidden1_bn\")\n",
    "    \n",
    "    # To cache a frozen layer, you should stop gradients backpropagating from that layer.\n",
    "    bn1_stop = tf.stop_gradient(bn1_act)\n",
    "    \n",
    "    hidden2 = tf.layers.dense(bn1_stop, n_hidden2, name=\"hidden2\")\n",
    "    bn2 = my_batch_norm_layer(hidden2)\n",
    "    bn2_act = tf.nn.elu(bn2, name=\"hidden2_bn\")\n",
    "    \n",
    "    logits_before_bn = tf.layers.dense(bn2_act, n_outputs, name=\"outputs\")\n",
    "    logits = my_batch_norm_layer(logits_before_bn)\n",
    "\n",
    "with tf.name_scope(\"loss\"):\n",
    "    xentropy = tf.nn.sparse_softmax_cross_entropy_with_logits(labels=y, logits=logits)\n",
    "    loss = tf.reduce_mean(xentropy, name=\"loss\")\n",
    "\n",
    "with tf.name_scope(\"train\"):\n",
    "    optimizer = tf.train.GradientDescentOptimizer(learning_rate)\n",
    "    training_op = optimizer.minimize(loss)\n",
    "\n",
    "with tf.name_scope(\"eval\"):\n",
    "    correct = tf.nn.in_top_k(logits, y, 1)\n",
    "    accuracy = tf.reduce_mean(tf.cast(correct, tf.float32), name=\"accuracy\")\n",
    "\n",
    "init = tf.global_variables_initializer()\n",
    "saver = tf.train.Saver()"
   ]
  },
  {
   "cell_type": "code",
   "execution_count": 30,
   "metadata": {},
   "outputs": [
    {
     "name": "stdout",
     "output_type": "stream",
     "text": [
      "INFO:tensorflow:Restoring parameters from ./ch10_model_final.ckpt\n"
     ]
    }
   ],
   "source": [
    "n_batches = mnist.train.num_examples // batch_size\n",
    "\n",
    "with tf.Session() as sess:\n",
    "    saver.restore(sess, \"./ch10_model_final.ckpt\")\n",
    "    \n",
    "    bn1_act_cache = sess.run(bn1_act, feed_dict={X: mnist.train.images})\n",
    "    \n",
    "    for epoch in range(n_epochs):\n",
    "        shuffeld_idx = np.random.permutation(mnist.train.num_examples)\n",
    "        \n",
    "        bn1_act_batches = np.array_split(bn1_act_cache[shuffeld_idx], n_batches)\n",
    "        y_batches = np.array_split(mnist.train.labels[shuffeld_idx], n_batches)\n",
    "        \n",
    "        for bn1_act_batch, y_batch in zip(bn1_act_batches, y_batches):\n",
    "            # You can feed any tensors even if it's not a placeholder\n",
    "            sess.run(training_op, feed_dict={bn1_act: bn1_act_batch, y:y_batch})"
   ]
  }
 ],
 "metadata": {
  "kernelspec": {
   "display_name": "Python 3",
   "language": "python",
   "name": "python3"
  },
  "language_info": {
   "codemirror_mode": {
    "name": "ipython",
    "version": 3
   },
   "file_extension": ".py",
   "mimetype": "text/x-python",
   "name": "python",
   "nbconvert_exporter": "python",
   "pygments_lexer": "ipython3",
   "version": "3.5.4"
  }
 },
 "nbformat": 4,
 "nbformat_minor": 2
}
