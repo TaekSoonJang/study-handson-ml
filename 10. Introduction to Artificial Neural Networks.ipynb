{
 "cells": [
  {
   "cell_type": "code",
   "execution_count": 7,
   "metadata": {},
   "outputs": [],
   "source": [
    "import tensorflow as tf\n",
    "import numpy as np"
   ]
  },
  {
   "cell_type": "markdown",
   "metadata": {},
   "source": [
    "### Hyperparameters"
   ]
  },
  {
   "cell_type": "code",
   "execution_count": 13,
   "metadata": {},
   "outputs": [],
   "source": [
    "n_inputs = 28*28\n",
    "n_hidden1 = 300\n",
    "n_hidden2 = 100\n",
    "n_outputs = 10\n",
    "\n",
    "learning_rate = 0.01"
   ]
  },
  {
   "cell_type": "markdown",
   "metadata": {},
   "source": [
    "### Construction Phase"
   ]
  },
  {
   "cell_type": "code",
   "execution_count": 14,
   "metadata": {},
   "outputs": [],
   "source": [
    "tf.reset_default_graph()\n",
    "\n",
    "X = tf.placeholder(tf.float32, shape=(None, n_inputs), name=\"X\")\n",
    "y = tf.placeholder(tf.int64, shape=(None), name=\"y\")\n",
    "\n",
    "with tf.name_scope(\"dnn\"):\n",
    "    hidden1 = tf.layers.dense(X, n_hidden1, name=\"hidden1\", activation=tf.nn.relu)\n",
    "    hidden2 = tf.layers.dense(hidden1, n_hidden2, name=\"hidden2\", activation=tf.nn.relu)\n",
    "    logits = tf.layers.dense(hidden2, n_outputs, name=\"outputs\")\n",
    "\n",
    "with tf.name_scope(\"loss\"):\n",
    "    xentropy = tf.nn.sparse_softmax_cross_entropy_with_logits(labels=y, logits=logits)\n",
    "    loss = tf.reduce_mean(xentropy, name=\"loss\")\n",
    "\n",
    "with tf.name_scope(\"train\"):\n",
    "    optimizer = tf.train.GradientDescentOptimizer(learning_rate)\n",
    "    training_op = optimizer.minimize(loss)\n",
    "\n",
    "with tf.name_scope(\"eval\"):\n",
    "    correct = tf.nn.in_top_k(logits, y, 1)\n",
    "    accuracy = tf.reduce_mean(tf.cast(correct, tf.float32))\n",
    "\n",
    "init = tf.global_variables_initializer()\n",
    "saver = tf.train.Saver()"
   ]
  },
  {
   "cell_type": "markdown",
   "metadata": {},
   "source": [
    "### Execution Phase"
   ]
  },
  {
   "cell_type": "code",
   "execution_count": 15,
   "metadata": {},
   "outputs": [
    {
     "name": "stdout",
     "output_type": "stream",
     "text": [
      "WARNING:tensorflow:From <ipython-input-15-c50d5bb4a85c>:2: read_data_sets (from tensorflow.contrib.learn.python.learn.datasets.mnist) is deprecated and will be removed in a future version.\n",
      "Instructions for updating:\n",
      "Please use alternatives such as official/mnist/dataset.py from tensorflow/models.\n",
      "WARNING:tensorflow:From //anaconda/envs/rl/lib/python3.5/site-packages/tensorflow/contrib/learn/python/learn/datasets/mnist.py:260: maybe_download (from tensorflow.contrib.learn.python.learn.datasets.base) is deprecated and will be removed in a future version.\n",
      "Instructions for updating:\n",
      "Please write your own downloading logic.\n",
      "WARNING:tensorflow:From //anaconda/envs/rl/lib/python3.5/site-packages/tensorflow/contrib/learn/python/learn/datasets/base.py:252: _internal_retry.<locals>.wrap.<locals>.wrapped_fn (from tensorflow.contrib.learn.python.learn.datasets.base) is deprecated and will be removed in a future version.\n",
      "Instructions for updating:\n",
      "Please use urllib or similar directly.\n",
      "Successfully downloaded train-images-idx3-ubyte.gz 9912422 bytes.\n",
      "WARNING:tensorflow:From //anaconda/envs/rl/lib/python3.5/site-packages/tensorflow/contrib/learn/python/learn/datasets/mnist.py:262: extract_images (from tensorflow.contrib.learn.python.learn.datasets.mnist) is deprecated and will be removed in a future version.\n",
      "Instructions for updating:\n",
      "Please use tf.data to implement this functionality.\n",
      "Extracting /tmp/data/train-images-idx3-ubyte.gz\n",
      "Successfully downloaded train-labels-idx1-ubyte.gz 28881 bytes.\n",
      "WARNING:tensorflow:From //anaconda/envs/rl/lib/python3.5/site-packages/tensorflow/contrib/learn/python/learn/datasets/mnist.py:267: extract_labels (from tensorflow.contrib.learn.python.learn.datasets.mnist) is deprecated and will be removed in a future version.\n",
      "Instructions for updating:\n",
      "Please use tf.data to implement this functionality.\n",
      "Extracting /tmp/data/train-labels-idx1-ubyte.gz\n",
      "Successfully downloaded t10k-images-idx3-ubyte.gz 1648877 bytes.\n",
      "Extracting /tmp/data/t10k-images-idx3-ubyte.gz\n",
      "Successfully downloaded t10k-labels-idx1-ubyte.gz 4542 bytes.\n",
      "Extracting /tmp/data/t10k-labels-idx1-ubyte.gz\n",
      "WARNING:tensorflow:From //anaconda/envs/rl/lib/python3.5/site-packages/tensorflow/contrib/learn/python/learn/datasets/mnist.py:290: DataSet.__init__ (from tensorflow.contrib.learn.python.learn.datasets.mnist) is deprecated and will be removed in a future version.\n",
      "Instructions for updating:\n",
      "Please use alternatives such as official/mnist/dataset.py from tensorflow/models.\n"
     ]
    }
   ],
   "source": [
    "from tensorflow.examples.tutorials.mnist import input_data\n",
    "mnist = input_data.read_data_sets(\"/tmp/data/\")"
   ]
  },
  {
   "cell_type": "code",
   "execution_count": 16,
   "metadata": {},
   "outputs": [],
   "source": [
    "n_epochs = 40\n",
    "batch_size = 50"
   ]
  },
  {
   "cell_type": "code",
   "execution_count": 19,
   "metadata": {},
   "outputs": [
    {
     "name": "stdout",
     "output_type": "stream",
     "text": [
      "0 Train Accuracy:  0.96 Test Accuracy:  0.9013\n",
      "1 Train Accuracy:  0.96 Test Accuracy:  0.9178\n",
      "2 Train Accuracy:  0.92 Test Accuracy:  0.9285\n",
      "3 Train Accuracy:  0.88 Test Accuracy:  0.9384\n",
      "4 Train Accuracy:  0.92 Test Accuracy:  0.9415\n",
      "5 Train Accuracy:  0.98 Test Accuracy:  0.9479\n",
      "6 Train Accuracy:  0.96 Test Accuracy:  0.9514\n",
      "7 Train Accuracy:  0.96 Test Accuracy:  0.9539\n",
      "8 Train Accuracy:  1.0 Test Accuracy:  0.955\n",
      "9 Train Accuracy:  0.98 Test Accuracy:  0.9597\n",
      "10 Train Accuracy:  0.98 Test Accuracy:  0.9606\n",
      "11 Train Accuracy:  1.0 Test Accuracy:  0.9623\n",
      "12 Train Accuracy:  1.0 Test Accuracy:  0.9643\n",
      "13 Train Accuracy:  0.94 Test Accuracy:  0.9636\n",
      "14 Train Accuracy:  1.0 Test Accuracy:  0.9655\n",
      "15 Train Accuracy:  0.98 Test Accuracy:  0.9663\n",
      "16 Train Accuracy:  1.0 Test Accuracy:  0.9677\n",
      "17 Train Accuracy:  1.0 Test Accuracy:  0.9689\n",
      "18 Train Accuracy:  0.98 Test Accuracy:  0.9692\n",
      "19 Train Accuracy:  0.98 Test Accuracy:  0.9704\n",
      "20 Train Accuracy:  1.0 Test Accuracy:  0.9711\n",
      "21 Train Accuracy:  0.98 Test Accuracy:  0.9709\n",
      "22 Train Accuracy:  0.98 Test Accuracy:  0.9725\n",
      "23 Train Accuracy:  0.94 Test Accuracy:  0.9729\n",
      "24 Train Accuracy:  1.0 Test Accuracy:  0.9734\n",
      "25 Train Accuracy:  0.98 Test Accuracy:  0.9743\n",
      "26 Train Accuracy:  1.0 Test Accuracy:  0.9745\n",
      "27 Train Accuracy:  0.98 Test Accuracy:  0.9744\n",
      "28 Train Accuracy:  1.0 Test Accuracy:  0.9748\n",
      "29 Train Accuracy:  1.0 Test Accuracy:  0.9749\n",
      "30 Train Accuracy:  0.98 Test Accuracy:  0.9754\n",
      "31 Train Accuracy:  1.0 Test Accuracy:  0.9759\n",
      "32 Train Accuracy:  0.98 Test Accuracy:  0.9754\n",
      "33 Train Accuracy:  0.98 Test Accuracy:  0.9766\n",
      "34 Train Accuracy:  1.0 Test Accuracy:  0.9762\n",
      "35 Train Accuracy:  0.98 Test Accuracy:  0.9762\n",
      "36 Train Accuracy:  1.0 Test Accuracy:  0.9775\n",
      "37 Train Accuracy:  1.0 Test Accuracy:  0.9772\n",
      "38 Train Accuracy:  0.98 Test Accuracy:  0.9776\n",
      "39 Train Accuracy:  1.0 Test Accuracy:  0.978\n"
     ]
    }
   ],
   "source": [
    "with tf.Session() as sess:\n",
    "    init.run()\n",
    "    \n",
    "    for epoch in range(n_epochs):\n",
    "        for iteration in range(mnist.train.num_examples // batch_size):\n",
    "            X_batch, y_batch = mnist.train.next_batch(batch_size)\n",
    "            sess.run(training_op, feed_dict={X: X_batch, y: y_batch})\n",
    "        acc_train = accuracy.eval(feed_dict={X: X_batch, y: y_batch})\n",
    "        acc_test = accuracy.eval(feed_dict={X: mnist.test.images,\n",
    "                                            y: mnist.test.labels})\n",
    "        \n",
    "        print(epoch, \"Train Accuracy: \", acc_train, \"Test Accuracy: \", acc_test)\n",
    "    \n",
    "    save_path = saver.save(sess, \"./ch10_model_final.ckpt\")"
   ]
  },
  {
   "cell_type": "code",
   "execution_count": 22,
   "metadata": {},
   "outputs": [
    {
     "name": "stdout",
     "output_type": "stream",
     "text": [
      "INFO:tensorflow:Restoring parameters from ./ch10_model_final.ckpt\n",
      "[1]\n"
     ]
    }
   ],
   "source": [
    "with tf.Session() as sess:\n",
    "    saver.restore(sess, \"./ch10_model_final.ckpt\")\n",
    "    X_new_scaled = [mnist.test.images[5]]\n",
    "    Z = logits.eval(feed_dict={X: X_new_scaled})\n",
    "    y_pred = np.argmax(Z, axis=1)\n",
    "    \n",
    "    print(y_pred)"
   ]
  },
  {
   "cell_type": "code",
   "execution_count": null,
   "metadata": {},
   "outputs": [],
   "source": []
  }
 ],
 "metadata": {
  "kernelspec": {
   "display_name": "Python 3",
   "language": "python",
   "name": "python3"
  },
  "language_info": {
   "codemirror_mode": {
    "name": "ipython",
    "version": 3
   },
   "file_extension": ".py",
   "mimetype": "text/x-python",
   "name": "python",
   "nbconvert_exporter": "python",
   "pygments_lexer": "ipython3",
   "version": "3.5.4"
  }
 },
 "nbformat": 4,
 "nbformat_minor": 2
}
