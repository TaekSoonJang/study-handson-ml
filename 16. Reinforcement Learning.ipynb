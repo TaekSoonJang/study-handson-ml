{
 "cells": [
  {
   "cell_type": "code",
   "execution_count": 37,
   "metadata": {},
   "outputs": [
    {
     "name": "stderr",
     "output_type": "stream",
     "text": [
      "/home/taeksoon/anaconda3/envs/dl/lib/python3.5/site-packages/h5py/__init__.py:34: FutureWarning: Conversion of the second argument of issubdtype from `float` to `np.floating` is deprecated. In future, it will be treated as `np.float64 == np.dtype(float).type`.\n",
      "  from ._conv import register_converters as _register_converters\n"
     ]
    }
   ],
   "source": [
    "import gym\n",
    "import tensorflow as tf\n",
    "import numpy as np\n",
    "import matplotlib.pyplot as plt\n",
    "%matplotlib inline\n",
    "from IPython import display"
   ]
  },
  {
   "cell_type": "code",
   "execution_count": 17,
   "metadata": {
    "collapsed": true
   },
   "outputs": [],
   "source": [
    "def show_state(env, step=0, info=\"\"):\n",
    "    plt.figure(3)\n",
    "    plt.clf()\n",
    "    plt.imshow(env.render(mode='rgb_array'))\n",
    "    plt.title(\"Step: %d %s\" % (step, info))\n",
    "    plt.axis('off')\n",
    "\n",
    "    display.clear_output(wait=True)\n",
    "    display.display(plt.gcf())"
   ]
  },
  {
   "cell_type": "markdown",
   "metadata": {},
   "source": [
    "### Open AI Gym"
   ]
  },
  {
   "cell_type": "code",
   "execution_count": 28,
   "metadata": {},
   "outputs": [
    {
     "name": "stdout",
     "output_type": "stream",
     "text": [
      "\u001b[33mWARN: gym.spaces.Box autodetected dtype as <class 'numpy.float32'>. Please provide explicit dtype.\u001b[0m\n"
     ]
    },
    {
     "data": {
      "text/plain": [
       "(400, 600, 3)"
      ]
     },
     "execution_count": 28,
     "metadata": {},
     "output_type": "execute_result"
    }
   ],
   "source": [
    "env = gym.make('CartPole-v0')\n",
    "\n",
    "# Run a demo of the environment\n",
    "obs = env.reset()\n",
    "img = env.render(mode=\"rgb_array\")\n",
    "img.shape"
   ]
  },
  {
   "cell_type": "code",
   "execution_count": 29,
   "metadata": {},
   "outputs": [
    {
     "data": {
      "text/plain": [
       "Discrete(2)"
      ]
     },
     "execution_count": 29,
     "metadata": {},
     "output_type": "execute_result"
    }
   ],
   "source": [
    "env.action_space"
   ]
  },
  {
   "cell_type": "code",
   "execution_count": 30,
   "metadata": {},
   "outputs": [
    {
     "name": "stdout",
     "output_type": "stream",
     "text": [
      "[-0.01659118  0.24160619 -0.0441714  -0.32322813]\n",
      "1.0\n",
      "False\n",
      "{}\n"
     ]
    }
   ],
   "source": [
    "action = 1\n",
    "obs, reward, done, info = env.step(action)\n",
    "print(obs)\n",
    "print(reward)\n",
    "print(done)\n",
    "print(info)"
   ]
  },
  {
   "cell_type": "markdown",
   "metadata": {},
   "source": [
    "### Simple Basic Policy"
   ]
  },
  {
   "cell_type": "code",
   "execution_count": 31,
   "metadata": {
    "collapsed": true
   },
   "outputs": [],
   "source": [
    "def basic_policy(obs):\n",
    "    angle = obs[2]\n",
    "    # accelerate left if the pole is leaning left, and vice versa\n",
    "    return 0 if angle < 0 else 1"
   ]
  },
  {
   "cell_type": "code",
   "execution_count": 35,
   "metadata": {},
   "outputs": [],
   "source": [
    "totals = []\n",
    "for episode in range(500):\n",
    "    episode_rewards = 0\n",
    "    obs = env.reset()\n",
    "    for step in range(1000): # 1000 steps max\n",
    "        action = basic_policy(obs)\n",
    "        obs, reward, done, info = env.step(action)\n",
    "#         show_state(env, step, info)\n",
    "        episode_rewards += reward\n",
    "        if done:\n",
    "            break\n",
    "    totals.append(episode_rewards)"
   ]
  },
  {
   "cell_type": "code",
   "execution_count": 36,
   "metadata": {},
   "outputs": [
    {
     "data": {
      "text/plain": [
       "(42.076, 8.799671812062083, 24.0, 64.0)"
      ]
     },
     "execution_count": 36,
     "metadata": {},
     "output_type": "execute_result"
    }
   ],
   "source": [
    "np.mean(totals), np.std(totals), np.min(totals), np.max(totals)"
   ]
  },
  {
   "cell_type": "markdown",
   "metadata": {},
   "source": [
    "### Neural Network Policy"
   ]
  },
  {
   "cell_type": "code",
   "execution_count": 54,
   "metadata": {
    "collapsed": true
   },
   "outputs": [],
   "source": [
    "n_inputs = 4 # == env.observation_space.shape[0]\n",
    "n_hidden = 4\n",
    "n_outputs = 1 # probability of acclerating left\n",
    "\n",
    "learning_rate = 0.01\n",
    "initializer = tf.contrib.layers.variance_scaling_initializer()"
   ]
  },
  {
   "cell_type": "code",
   "execution_count": 61,
   "metadata": {},
   "outputs": [],
   "source": [
    "tf.reset_default_graph()\n",
    "\n",
    "X = tf.placeholder(tf.float32, shape=[None, n_inputs])\n",
    "hidden = tf.layers.dense(X, n_hidden, activation=tf.nn.elu,\n",
    "                         kernel_initializer=initializer)\n",
    "logits = tf.layers.dense(hidden, n_outputs,\n",
    "                         kernel_initializer=initializer)\n",
    "outputs = tf.nn.sigmoid(logits)\n",
    "\n",
    "p_left_and_right = tf.concat(axis=1, values=[outputs, 1-outputs])\n",
    "action = tf.multinomial(tf.log(p_left_and_right), num_samples=1)"
   ]
  },
  {
   "cell_type": "code",
   "execution_count": 62,
   "metadata": {
    "collapsed": true
   },
   "outputs": [],
   "source": [
    "y = 1. - tf.to_float(action)\n",
    "\n",
    "cross_entropy = tf.nn.sigmoid_cross_entropy_with_logits(labels=y, logits=logits)\n",
    "optimizer = tf.train.AdamOptimizer(learning_rate)\n",
    "grads_and_vars = optimizer.compute_gradients(cross_entropy)\n",
    "gradients = [grad for grad, variable in grads_and_vars]\n",
    "\n",
    "gradient_placeholders = []\n",
    "grads_and_vars_feed = []\n",
    "for grad, variable in grads_and_vars:\n",
    "    gradient_placeholder = tf.placeholder(tf.float32, shape=grad.get_shape())\n",
    "    gradient_placeholders.append(gradient_placeholder)\n",
    "    grads_and_vars_feed.append((gradient_placeholder, variable))\n",
    "\n",
    "training_op = optimizer.apply_gradients(grads_and_vars_feed)"
   ]
  },
  {
   "cell_type": "code",
   "execution_count": 63,
   "metadata": {
    "collapsed": true
   },
   "outputs": [],
   "source": [
    "def discount_rewards(rewards, discount_rate):\n",
    "    discounted_rewards = np.empty(len(rewards))\n",
    "    cumulative_rewards = 0\n",
    "    for step in reversed(range(len(rewards))):\n",
    "        cumulative_rewards = rewards[step] + cumulative_rewards * discount_rate\n",
    "        discounted_rewards[step] = cumulative_rewards\n",
    "    return discounted_rewards\n",
    "\n",
    "def discount_and_normalize_rewards(all_rewards, discount_rate):\n",
    "    all_discounted_rewards = [discount_rewards(rewards, discount_rate)\n",
    "                              for rewards in all_rewards]\n",
    "    flat_rewards = np.concatenate(all_discounted_rewards)\n",
    "    reward_mean = flat_rewards.mean()\n",
    "    reward_std = flat_rewards.std()\n",
    "    return [(discounted_rewards - reward_mean)/reward_std\n",
    "            for discounted_rewards in all_discounted_rewards]"
   ]
  },
  {
   "cell_type": "code",
   "execution_count": 64,
   "metadata": {
    "collapsed": true
   },
   "outputs": [],
   "source": [
    "n_iterations = 250\n",
    "n_max_steps = 1000\n",
    "n_games_per_update = 10\n",
    "save_iterations = 10\n",
    "discount_rate = 0.95"
   ]
  },
  {
   "cell_type": "code",
   "execution_count": 47,
   "metadata": {},
   "outputs": [],
   "source": [
    "init = tf.global_variables_initializer()\n",
    "saver = tf.train.Saver()\n",
    "\n",
    "with tf.Session() as sess:\n",
    "    init.run()\n",
    "    for iteration in range(n_iterations):\n",
    "        all_rewards = []\n",
    "        all_gradients = []\n",
    "        for game in range(n_games_per_update):\n",
    "            current_rewards = []\n",
    "            current_gradients = []\n",
    "            obs = env.reset()\n",
    "            for step in range(n_max_steps):\n",
    "                action_val, gradients_val = sess.run([action, gradients],\n",
    "                                                    feed_dict = {X: obs.reshape(1, n_inputs)})\n",
    "                obs, reward, done, info = env.step(action_val[0][0])\n",
    "                current_rewards.append(reward)\n",
    "                current_gradients.append(gradients_val)\n",
    "                if done:\n",
    "                    break\n",
    "            all_rewards.append(current_rewards)\n",
    "            all_gradients.append(current_gradients)\n",
    "            \n",
    "        all_rewards = discount_and_normalize_rewards(all_rewards, discount_rate)\n",
    "        feed_dict = {}\n",
    "        for var_index, grad_placeholder in enumerate(gradient_placeholders):\n",
    "            mean_gradients = np.mean(\n",
    "                [reward * all_gradients[game_index][step][var_index]\n",
    "                    for game_index, rewards in enumerate(all_rewards)\n",
    "                    for step, reward in enumerate(rewards)],\n",
    "                axis=0)\n",
    "            feed_dict[grad_placeholder] = mean_gradients\n",
    "        sess.run(training_op, feed_dict=feed_dict)\n",
    "        if iteration % save_iterations == 0:\n",
    "            saver.save(sess, \"rl_model/my_policy_net_pg.ckpt\")"
   ]
  },
  {
   "cell_type": "code",
   "execution_count": 65,
   "metadata": {
    "collapsed": true
   },
   "outputs": [],
   "source": [
    "def pg_policy(obs):\n",
    "    saver = tf.train.Saver()\n",
    "    with tf.Session() as sess:\n",
    "        saver.restore(sess, \"rl_model/my_policy_net_pg.ckpt\")\n",
    "        return sess.run(action, feed_dict={X: obs.reshape(1, n_inputs)})[0][0]"
   ]
  },
  {
   "cell_type": "code",
   "execution_count": null,
   "metadata": {},
   "outputs": [
    {
     "name": "stdout",
     "output_type": "stream",
     "text": [
      "INFO:tensorflow:Restoring parameters from rl_model/my_policy_net_pg.ckpt\n",
      "INFO:tensorflow:Restoring parameters from rl_model/my_policy_net_pg.ckpt\n",
      "INFO:tensorflow:Restoring parameters from rl_model/my_policy_net_pg.ckpt\n",
      "INFO:tensorflow:Restoring parameters from rl_model/my_policy_net_pg.ckpt\n",
      "INFO:tensorflow:Restoring parameters from rl_model/my_policy_net_pg.ckpt\n",
      "INFO:tensorflow:Restoring parameters from rl_model/my_policy_net_pg.ckpt\n",
      "INFO:tensorflow:Restoring parameters from rl_model/my_policy_net_pg.ckpt\n",
      "INFO:tensorflow:Restoring parameters from rl_model/my_policy_net_pg.ckpt\n",
      "INFO:tensorflow:Restoring parameters from rl_model/my_policy_net_pg.ckpt\n",
      "INFO:tensorflow:Restoring parameters from rl_model/my_policy_net_pg.ckpt\n",
      "INFO:tensorflow:Restoring parameters from rl_model/my_policy_net_pg.ckpt\n",
      "INFO:tensorflow:Restoring parameters from rl_model/my_policy_net_pg.ckpt\n",
      "INFO:tensorflow:Restoring parameters from rl_model/my_policy_net_pg.ckpt\n",
      "INFO:tensorflow:Restoring parameters from rl_model/my_policy_net_pg.ckpt\n",
      "INFO:tensorflow:Restoring parameters from rl_model/my_policy_net_pg.ckpt\n",
      "INFO:tensorflow:Restoring parameters from rl_model/my_policy_net_pg.ckpt\n",
      "INFO:tensorflow:Restoring parameters from rl_model/my_policy_net_pg.ckpt\n",
      "INFO:tensorflow:Restoring parameters from rl_model/my_policy_net_pg.ckpt\n",
      "INFO:tensorflow:Restoring parameters from rl_model/my_policy_net_pg.ckpt\n",
      "INFO:tensorflow:Restoring parameters from rl_model/my_policy_net_pg.ckpt\n",
      "INFO:tensorflow:Restoring parameters from rl_model/my_policy_net_pg.ckpt\n",
      "INFO:tensorflow:Restoring parameters from rl_model/my_policy_net_pg.ckpt\n",
      "INFO:tensorflow:Restoring parameters from rl_model/my_policy_net_pg.ckpt\n",
      "INFO:tensorflow:Restoring parameters from rl_model/my_policy_net_pg.ckpt\n",
      "INFO:tensorflow:Restoring parameters from rl_model/my_policy_net_pg.ckpt\n",
      "INFO:tensorflow:Restoring parameters from rl_model/my_policy_net_pg.ckpt\n",
      "INFO:tensorflow:Restoring parameters from rl_model/my_policy_net_pg.ckpt\n",
      "INFO:tensorflow:Restoring parameters from rl_model/my_policy_net_pg.ckpt\n",
      "INFO:tensorflow:Restoring parameters from rl_model/my_policy_net_pg.ckpt\n",
      "INFO:tensorflow:Restoring parameters from rl_model/my_policy_net_pg.ckpt\n",
      "INFO:tensorflow:Restoring parameters from rl_model/my_policy_net_pg.ckpt\n",
      "INFO:tensorflow:Restoring parameters from rl_model/my_policy_net_pg.ckpt\n",
      "INFO:tensorflow:Restoring parameters from rl_model/my_policy_net_pg.ckpt\n",
      "INFO:tensorflow:Restoring parameters from rl_model/my_policy_net_pg.ckpt\n",
      "INFO:tensorflow:Restoring parameters from rl_model/my_policy_net_pg.ckpt\n",
      "INFO:tensorflow:Restoring parameters from rl_model/my_policy_net_pg.ckpt\n",
      "INFO:tensorflow:Restoring parameters from rl_model/my_policy_net_pg.ckpt\n",
      "INFO:tensorflow:Restoring parameters from rl_model/my_policy_net_pg.ckpt\n",
      "INFO:tensorflow:Restoring parameters from rl_model/my_policy_net_pg.ckpt\n",
      "INFO:tensorflow:Restoring parameters from rl_model/my_policy_net_pg.ckpt\n",
      "INFO:tensorflow:Restoring parameters from rl_model/my_policy_net_pg.ckpt\n",
      "INFO:tensorflow:Restoring parameters from rl_model/my_policy_net_pg.ckpt\n",
      "INFO:tensorflow:Restoring parameters from rl_model/my_policy_net_pg.ckpt\n",
      "INFO:tensorflow:Restoring parameters from rl_model/my_policy_net_pg.ckpt\n",
      "INFO:tensorflow:Restoring parameters from rl_model/my_policy_net_pg.ckpt\n",
      "INFO:tensorflow:Restoring parameters from rl_model/my_policy_net_pg.ckpt\n",
      "INFO:tensorflow:Restoring parameters from rl_model/my_policy_net_pg.ckpt\n",
      "INFO:tensorflow:Restoring parameters from rl_model/my_policy_net_pg.ckpt\n",
      "INFO:tensorflow:Restoring parameters from rl_model/my_policy_net_pg.ckpt\n",
      "INFO:tensorflow:Restoring parameters from rl_model/my_policy_net_pg.ckpt\n",
      "INFO:tensorflow:Restoring parameters from rl_model/my_policy_net_pg.ckpt\n",
      "INFO:tensorflow:Restoring parameters from rl_model/my_policy_net_pg.ckpt\n",
      "INFO:tensorflow:Restoring parameters from rl_model/my_policy_net_pg.ckpt\n",
      "INFO:tensorflow:Restoring parameters from rl_model/my_policy_net_pg.ckpt\n",
      "INFO:tensorflow:Restoring parameters from rl_model/my_policy_net_pg.ckpt\n",
      "INFO:tensorflow:Restoring parameters from rl_model/my_policy_net_pg.ckpt\n",
      "INFO:tensorflow:Restoring parameters from rl_model/my_policy_net_pg.ckpt\n",
      "INFO:tensorflow:Restoring parameters from rl_model/my_policy_net_pg.ckpt\n",
      "INFO:tensorflow:Restoring parameters from rl_model/my_policy_net_pg.ckpt\n",
      "INFO:tensorflow:Restoring parameters from rl_model/my_policy_net_pg.ckpt\n",
      "INFO:tensorflow:Restoring parameters from rl_model/my_policy_net_pg.ckpt\n",
      "INFO:tensorflow:Restoring parameters from rl_model/my_policy_net_pg.ckpt\n",
      "INFO:tensorflow:Restoring parameters from rl_model/my_policy_net_pg.ckpt\n",
      "INFO:tensorflow:Restoring parameters from rl_model/my_policy_net_pg.ckpt\n",
      "INFO:tensorflow:Restoring parameters from rl_model/my_policy_net_pg.ckpt\n",
      "INFO:tensorflow:Restoring parameters from rl_model/my_policy_net_pg.ckpt\n",
      "INFO:tensorflow:Restoring parameters from rl_model/my_policy_net_pg.ckpt\n",
      "INFO:tensorflow:Restoring parameters from rl_model/my_policy_net_pg.ckpt\n",
      "INFO:tensorflow:Restoring parameters from rl_model/my_policy_net_pg.ckpt\n",
      "INFO:tensorflow:Restoring parameters from rl_model/my_policy_net_pg.ckpt\n",
      "INFO:tensorflow:Restoring parameters from rl_model/my_policy_net_pg.ckpt\n",
      "INFO:tensorflow:Restoring parameters from rl_model/my_policy_net_pg.ckpt\n",
      "INFO:tensorflow:Restoring parameters from rl_model/my_policy_net_pg.ckpt\n",
      "INFO:tensorflow:Restoring parameters from rl_model/my_policy_net_pg.ckpt\n",
      "INFO:tensorflow:Restoring parameters from rl_model/my_policy_net_pg.ckpt\n",
      "INFO:tensorflow:Restoring parameters from rl_model/my_policy_net_pg.ckpt\n",
      "INFO:tensorflow:Restoring parameters from rl_model/my_policy_net_pg.ckpt\n",
      "INFO:tensorflow:Restoring parameters from rl_model/my_policy_net_pg.ckpt\n",
      "INFO:tensorflow:Restoring parameters from rl_model/my_policy_net_pg.ckpt\n",
      "INFO:tensorflow:Restoring parameters from rl_model/my_policy_net_pg.ckpt\n",
      "INFO:tensorflow:Restoring parameters from rl_model/my_policy_net_pg.ckpt\n"
     ]
    }
   ],
   "source": [
    "totals = []\n",
    "for episode in range(500):\n",
    "    episode_rewards = 0\n",
    "    obs = env.reset()\n",
    "    for step in range(1000): # 1000 steps max\n",
    "        fitted_action = pg_policy(obs)\n",
    "        obs, reward, done, info = env.step(fitted_action)\n",
    "#         show_state(env, step, info)\n",
    "        episode_rewards += reward\n",
    "        if done:\n",
    "            break\n",
    "    totals.append(episode_rewards)\n",
    "    \n",
    "print(np.mean(totals), np.std(totals), np.min(totals), np.max(totals))"
   ]
  },
  {
   "cell_type": "code",
   "execution_count": null,
   "metadata": {
    "collapsed": true
   },
   "outputs": [],
   "source": []
  }
 ],
 "metadata": {
  "kernelspec": {
   "display_name": "Python 3",
   "language": "python",
   "name": "python3"
  },
  "language_info": {
   "codemirror_mode": {
    "name": "ipython",
    "version": 3
   },
   "file_extension": ".py",
   "mimetype": "text/x-python",
   "name": "python",
   "nbconvert_exporter": "python",
   "pygments_lexer": "ipython3",
   "version": "3.5.4"
  }
 },
 "nbformat": 4,
 "nbformat_minor": 2
}
